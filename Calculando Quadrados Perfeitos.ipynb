{
 "cells": [
  {
   "cell_type": "markdown",
   "id": "0cdb69dd",
   "metadata": {},
   "source": [
    "# Cubo Mágico\n"
   ]
  },
  {
   "cell_type": "code",
   "execution_count": 1,
   "id": "64a9db93",
   "metadata": {},
   "outputs": [],
   "source": [
    "#importações\n",
    "import numpy as np"
   ]
  },
  {
   "cell_type": "code",
   "execution_count": 15,
   "id": "594868d3",
   "metadata": {},
   "outputs": [],
   "source": [
    "class MagicCube:\n",
    "    def __init__(self,size: int = 3, sum_axis: int = 6):\n",
    "        self.magic_cube = np.zeros((size,size))\n",
    "        self.sum_axis = sum_axis\n",
    "    \n",
    "    def set_magic_cube(self,matrix):\n",
    "        self.magic_cube = matrix\n",
    "        \n",
    "    def check_valid_cube(self):\n",
    "        axis_column = self.magic_cube.sum(axis=0)\n",
    "        if (not(axis_column[0] ==  axis_column[1] == axis_column[2] == self.sum_axis)):\n",
    "            return False\n",
    "        axis_row = self.magic_cube.sum(axis=1)\n",
    "        if (not(axis_row[0] == axis_row[1] == axis_row[2] == self.sum_axis)):\n",
    "            return False\n",
    "        return sum(np.fliplr(self.magic_cube).diagonal()) == sum(self.magic_cube.diagonal())\n",
    "        \n",
    "    def check_imperfect_cube(self):\n",
    "        axis_column = self.magic_cube.sum(axis=0)\n",
    "        if (not(axis_column[0] ==  axis_column[1] == axis_column[2] == self.sum_axis)):\n",
    "            return False\n",
    "        axis_row = self.magic_cube.sum(axis=1)\n",
    "        if (not(axis_row[0] == axis_row[1] == axis_row[2] == self.sum_axis)):\n",
    "            return False\n",
    "        return True\n",
    "    def show_magic_cube(self):\n",
    "        print(self.magic_cube)\n",
    "        \n",
    "        "
   ]
  },
  {
   "cell_type": "code",
   "execution_count": 16,
   "id": "1f94eefe",
   "metadata": {},
   "outputs": [],
   "source": [
    "cube_example = MagicCube(3,6)"
   ]
  },
  {
   "cell_type": "code",
   "execution_count": 20,
   "id": "37ef15e9",
   "metadata": {},
   "outputs": [],
   "source": [
    "cube_example.set_magic_cube(np.array([[1,3,2],[5,0,1],[0,3,3]]))"
   ]
  },
  {
   "cell_type": "code",
   "execution_count": 21,
   "id": "87ffa28c",
   "metadata": {},
   "outputs": [
    {
     "name": "stdout",
     "output_type": "stream",
     "text": [
      "[[1 3 2]\n",
      " [5 0 1]\n",
      " [0 3 3]]\n"
     ]
    }
   ],
   "source": [
    "cube_example.show_magic_cube()"
   ]
  },
  {
   "cell_type": "code",
   "execution_count": 22,
   "id": "549767f2",
   "metadata": {},
   "outputs": [
    {
     "data": {
      "text/plain": [
       "True"
      ]
     },
     "execution_count": 22,
     "metadata": {},
     "output_type": "execute_result"
    }
   ],
   "source": [
    "cube_example.check_imperfect_cube()"
   ]
  },
  {
   "cell_type": "code",
   "execution_count": 23,
   "id": "75bc5139",
   "metadata": {},
   "outputs": [
    {
     "data": {
      "text/plain": [
       "False"
      ]
     },
     "execution_count": 23,
     "metadata": {},
     "output_type": "execute_result"
    }
   ],
   "source": [
    "cube_example.check_valid_cube()"
   ]
  },
  {
   "cell_type": "code",
   "execution_count": 26,
   "id": "9046c80b",
   "metadata": {},
   "outputs": [],
   "source": [
    "def find_how_many_magic_cube_3_3_sum_6():\n",
    "    magic_cube_full = 0\n",
    "    magic_cube_imperfect = 0\n",
    "    cube_test = MagicCube(3,6)\n",
    "    for x1 in range(7):\n",
    "        for x2 in range(7):\n",
    "            for x3 in range(7):\n",
    "                for x4 in range(7):\n",
    "                    for x5 in range(7):\n",
    "                        for x6 in range(7):\n",
    "                            for x7 in range(7):\n",
    "                                for x8 in range(7):\n",
    "                                    for x9 in range(7):\n",
    "                                        cube_test.set_magic_cube(np.array([[x1,x2,x3],[x4,x5,x6],[x7,x8,x9]]))\n",
    "                                        if cube_test.check_imperfect_cube():\n",
    "                                            magic_cube_imperfect += 1\n",
    "                                            if cube_test.check_valid_cube():\n",
    "                                                magic_cube_full +=1\n",
    "    print(\"Magic Imperfect Cube\", magic_cube_imperfect)\n",
    "    print(\"Magic Full\", magic_cube_full)"
   ]
  },
  {
   "cell_type": "code",
   "execution_count": 27,
   "id": "43f7f017",
   "metadata": {},
   "outputs": [
    {
     "name": "stdout",
     "output_type": "stream",
     "text": [
      "Magic Imperfect Cube 406\n",
      "Magic Full 34\n"
     ]
    }
   ],
   "source": [
    "find_how_many_magic_cube_3_3_sum_6()"
   ]
  },
  {
   "cell_type": "code",
   "execution_count": 31,
   "id": "360b708f",
   "metadata": {},
   "outputs": [],
   "source": [
    "def make_matrix_from_values(x1,x2,x3,x4,x5,x6):\n",
    "    _123 = x1\n",
    "    _132 = x2\n",
    "    _213 = x3\n",
    "    _231 = x4\n",
    "    _312 = x5\n",
    "    _321 = x6\n",
    "    return np.array([[_123+_132,_213+_321,_231+_321],[_213+_231,_123+_321,_132+_321],[_312+_321,_132+_231,_123+_213]])"
   ]
  },
  {
   "cell_type": "code",
   "execution_count": 32,
   "id": "48f49343",
   "metadata": {},
   "outputs": [],
   "source": [
    "def find_how_many_magic_cube_3_3_sum_6_new_approach():\n",
    "    magic_cube_full = 0\n",
    "    magic_cube_imperfect = 0\n",
    "    cube_test = MagicCube(3,6)\n",
    "    for x1 in range(7):\n",
    "        for x2 in range(7):\n",
    "            for x3 in range(7):\n",
    "                for x4 in range(7):\n",
    "                    for x5 in range(7):\n",
    "                        for x6 in range(7):\n",
    "                            cube_test.set_magic_cube(make_matrix_from_values(x1,x2,x3,x4,x5,x6))\n",
    "                            if cube_test.check_imperfect_cube():\n",
    "                                magic_cube_imperfect += 1\n",
    "                                if cube_test.check_valid_cube():\n",
    "                                    magic_cube_full +=1\n",
    "    print(\"Magic Imperfect Cube\", magic_cube_imperfect)\n",
    "    print(\"Magic Full\", magic_cube_full)"
   ]
  },
  {
   "cell_type": "code",
   "execution_count": 33,
   "id": "5c3378f8",
   "metadata": {},
   "outputs": [
    {
     "name": "stdout",
     "output_type": "stream",
     "text": [
      "Magic Imperfect Cube 130\n",
      "Magic Full 8\n"
     ]
    }
   ],
   "source": [
    "find_how_many_magic_cube_3_3_sum_6_new_approach()"
   ]
  },
  {
   "cell_type": "code",
   "execution_count": 35,
   "id": "9cfaf0aa",
   "metadata": {},
   "outputs": [
    {
     "data": {
      "text/plain": [
       "0.23529411764705882"
      ]
     },
     "execution_count": 35,
     "metadata": {},
     "output_type": "execute_result"
    }
   ],
   "source": []
  },
  {
   "cell_type": "code",
   "execution_count": null,
   "id": "c2ffa880",
   "metadata": {},
   "outputs": [],
   "source": []
  }
 ],
 "metadata": {
  "kernelspec": {
   "display_name": "Python 3 (ipykernel)",
   "language": "python",
   "name": "python3"
  },
  "language_info": {
   "codemirror_mode": {
    "name": "ipython",
    "version": 3
   },
   "file_extension": ".py",
   "mimetype": "text/x-python",
   "name": "python",
   "nbconvert_exporter": "python",
   "pygments_lexer": "ipython3",
   "version": "3.10.9"
  }
 },
 "nbformat": 4,
 "nbformat_minor": 5
}
